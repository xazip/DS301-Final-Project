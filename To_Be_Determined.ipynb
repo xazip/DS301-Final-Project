{
 "cells": [
  {
   "cell_type": "code",
   "execution_count": 20,
   "metadata": {},
   "outputs": [],
   "source": [
    "%matplotlib inline\n",
    "import matplotlib.pyplot as plt\n",
    "\n",
    "\n",
    "from datetime import datetime\n",
    "import pandas as pd\n",
    "import numpy as np\n",
    "from IPython.display import display, HTML\n",
    "from IPython.core.pylabtools import figsize\n",
    "import seaborn as sns\n",
    "\n",
    "\n",
    "# Machine Learning models\n",
    "from sklearn.linear_model import LinearRegression\n",
    "from sklearn.ensemble import RandomForestRegressor, GradientBoostingRegressor\n",
    "from sklearn.model_selection import train_test_split\n",
    "from sklearn.model_selection import cross_val_score\n",
    "import sklearn.metrics as metrics\n",
    "from sklearn import preprocessing\n",
    "\n",
    "# Arcgis api imports\n",
    "import arcgis\n",
    "from arcgis.geoenrichment import Country\n",
    "from arcgis.features import summarize_data\n",
    "from arcgis.features.enrich_data import enrich_layer\n",
    "from arcgis.features import SpatialDataFrame\n",
    "from arcgis.features import use_proximity \n",
    "from arcgis.gis import GIS"
   ]
  },
  {
   "cell_type": "code",
   "execution_count": 21,
   "metadata": {},
   "outputs": [],
   "source": [
    "gis = GIS(portal_url = 'https://xazip.maps.arcgis.com', profile = \"xazip_online\", password = \"maloneyaq12wsde34rf\")"
   ]
  },
  {
   "cell_type": "code",
   "execution_count": 22,
   "metadata": {},
   "outputs": [],
   "source": [
    "nyc_tract_full = gis.content.search(\"NYC_Tract_Andrew\", \n",
    "                                    \"feature layer\")[0]"
   ]
  },
  {
   "cell_type": "code",
   "execution_count": 23,
   "metadata": {},
   "outputs": [
    {
     "data": {
      "text/html": [
       "<div class=\"item_container\" style=\"height: auto; overflow: hidden; border: 1px solid #cfcfcf; border-radius: 2px; background: #f6fafa; line-height: 1.21429em; padding: 10px;\">\n",
       "                    <div class=\"item_left\" style=\"width: 210px; float: left;\">\n",
       "                       <a href='https://www.arcgis.com/home/item.html?id=8f05afe96c864121a53dc091774a06e1' target='_blank'>\n",
       "                        <img src='http://static.arcgis.com/images/desktopapp.png' class=\"itemThumbnail\">\n",
       "                       </a>\n",
       "                    </div>\n",
       "\n",
       "                    <div class=\"item_right\"     style=\"float: none; width: auto; overflow: hidden;\">\n",
       "                        <a href='https://www.arcgis.com/home/item.html?id=8f05afe96c864121a53dc091774a06e1' target='_blank'><b>NYC_Tract_Andrew</b>\n",
       "                        </a>\n",
       "                        <br/>For Example Code <img src='https://www.arcgis.com/home/js/jsapi/esri/css/images/item_type_icons/featureshosted16.png' style=\"vertical-align:middle;\">Feature Layer Collection by xazip_online\n",
       "                        <br/>Last Modified: November 26, 2019\n",
       "                        <br/>0 comments, 5 views\n",
       "                    </div>\n",
       "                </div>\n",
       "                "
      ],
      "text/plain": [
       "<Item title:\"NYC_Tract_Andrew\" type:Feature Layer Collection owner:xazip_online>"
      ]
     },
     "execution_count": 23,
     "metadata": {},
     "output_type": "execute_result"
    }
   ],
   "source": [
    "nyc_tract_full"
   ]
  },
  {
   "cell_type": "code",
   "execution_count": 5,
   "metadata": {},
   "outputs": [],
   "source": [
    "nyc_tracts_layer = nyc_tract_full.layers[0]"
   ]
  },
  {
   "cell_type": "code",
   "execution_count": 6,
   "metadata": {},
   "outputs": [],
   "source": [
    "#Accesing the airbnb NYC data\n",
    "airbnb_nyc2019 = gis.content.search(\"Andrew_AirBNB_Listings\", \n",
    "                                    \"feature layer\")[0]"
   ]
  },
  {
   "cell_type": "code",
   "execution_count": 7,
   "metadata": {},
   "outputs": [
    {
     "data": {
      "text/html": [
       "<div class=\"item_container\" style=\"height: auto; overflow: hidden; border: 1px solid #cfcfcf; border-radius: 2px; background: #f6fafa; line-height: 1.21429em; padding: 10px;\">\n",
       "                    <div class=\"item_left\" style=\"width: 210px; float: left;\">\n",
       "                       <a href='https://www.arcgis.com/home/item.html?id=3188e77a5ccf4041b8ae55e65d1a1a01' target='_blank'>\n",
       "                        <img src='https://www.arcgis.com/sharing/rest//content/items/3188e77a5ccf4041b8ae55e65d1a1a01/info/thumbnail/ago_downloaded.png' class=\"itemThumbnail\">\n",
       "                       </a>\n",
       "                    </div>\n",
       "\n",
       "                    <div class=\"item_right\"     style=\"float: none; width: auto; overflow: hidden;\">\n",
       "                        <a href='https://www.arcgis.com/home/item.html?id=3188e77a5ccf4041b8ae55e65d1a1a01' target='_blank'><b>Andrew_AirBNB_Listings</b>\n",
       "                        </a>\n",
       "                        <br/><img src='https://www.arcgis.com/home/js/jsapi/esri/css/images/item_type_icons/featureshosted16.png' style=\"vertical-align:middle;\">Feature Layer Collection by xazip_online\n",
       "                        <br/>Last Modified: November 26, 2019\n",
       "                        <br/>0 comments, 1 views\n",
       "                    </div>\n",
       "                </div>\n",
       "                "
      ],
      "text/plain": [
       "<Item title:\"Andrew_AirBNB_Listings\" type:Feature Layer Collection owner:xazip_online>"
      ]
     },
     "execution_count": 7,
     "metadata": {},
     "output_type": "execute_result"
    }
   ],
   "source": [
    "airbnb_nyc2019"
   ]
  },
  {
   "cell_type": "code",
   "execution_count": 8,
   "metadata": {},
   "outputs": [],
   "source": [
    "airbnb_layer = airbnb_nyc2019.layers[0]"
   ]
  },
  {
   "cell_type": "code",
   "execution_count": 9,
   "metadata": {},
   "outputs": [
    {
     "data": {
      "application/vnd.jupyter.widget-view+json": {
       "model_id": "caf4ae9ade39444981f7bf41dbea8002",
       "version_major": 2,
       "version_minor": 0
      },
      "text/plain": [
       "MapView(layout=Layout(height='400px', width='100%'))"
      ]
     },
     "metadata": {},
     "output_type": "display_data"
    },
    {
     "data": {
      "text/html": [
       "<div class=\"map-static-img-preview-8f1723ed-5b3d-489c-a3e7-c2276235f3b9\"><img src=\"\"></img></div>"
      ],
      "text/plain": [
       "<IPython.core.display.HTML object>"
      ]
     },
     "metadata": {},
     "output_type": "display_data"
    }
   ],
   "source": [
    "#Visualizing Data\n",
    "m1 = gis.map(\"New York City\")\n",
    "m1.add_layer(nyc_tracts_layer)\n",
    "m1"
   ]
  },
  {
   "cell_type": "code",
   "execution_count": 10,
   "metadata": {},
   "outputs": [
    {
     "data": {
      "application/vnd.jupyter.widget-view+json": {
       "model_id": "bf109a036a654e6e950fc3a4deda40f4",
       "version_major": 2,
       "version_minor": 0
      },
      "text/plain": [
       "MapView(layout=Layout(height='400px', width='100%'))"
      ]
     },
     "metadata": {},
     "output_type": "display_data"
    },
    {
     "data": {
      "text/html": [
       "<div class=\"map-static-img-preview-e7352c72-9b36-4654-bacc-690c8f61837f\"><img src=\"\"></img></div>"
      ],
      "text/plain": [
       "<IPython.core.display.HTML object>"
      ]
     },
     "metadata": {},
     "output_type": "display_data"
    }
   ],
   "source": [
    "m2 = gis.map(\"Springfield Gardens, NY\")\n",
    "m2.add_layer(airbnb_layer)\n",
    "m2"
   ]
  },
  {
   "cell_type": "code",
   "execution_count": 11,
   "metadata": {},
   "outputs": [],
   "source": [
    "#Extracting the Dataframe from the layer and visualize it as pandas dataframe\n",
    "\n",
    "sdf_airbnb_layer = pd.DataFrame.spatial.from_layer(airbnb_layer)\n"
   ]
  },
  {
   "cell_type": "code",
   "execution_count": 12,
   "metadata": {},
   "outputs": [
    {
     "name": "stderr",
     "output_type": "stream",
     "text": [
      "/Users/andrewmaloney/opt/anaconda3/lib/python3.7/site-packages/IPython/lib/pretty.py:402: FutureWarning: 'ExtensionArray._formatting_values' is deprecated. Specify 'ExtensionArray._formatter' instead.\n",
      "  return _repr_pprint(obj, self, cycle)\n",
      "/Users/andrewmaloney/opt/anaconda3/lib/python3.7/site-packages/pandas/io/formats/html.py:606: FutureWarning: 'ExtensionArray._formatting_values' is deprecated. Specify 'ExtensionArray._formatter' instead.\n",
      "  super().render()\n"
     ]
    },
    {
     "data": {
      "text/html": [
       "<div>\n",
       "<style scoped>\n",
       "    .dataframe tbody tr th:only-of-type {\n",
       "        vertical-align: middle;\n",
       "    }\n",
       "\n",
       "    .dataframe tbody tr th {\n",
       "        vertical-align: top;\n",
       "    }\n",
       "\n",
       "    .dataframe thead th {\n",
       "        text-align: right;\n",
       "    }\n",
       "</style>\n",
       "<table border=\"1\" class=\"dataframe\">\n",
       "  <thead>\n",
       "    <tr style=\"text-align: right;\">\n",
       "      <th></th>\n",
       "      <th>id</th>\n",
       "      <th>listing_url</th>\n",
       "      <th>scrape_id</th>\n",
       "      <th>last_scraped</th>\n",
       "      <th>name</th>\n",
       "      <th>summary</th>\n",
       "      <th>space</th>\n",
       "      <th>description</th>\n",
       "      <th>experiences_offered</th>\n",
       "      <th>neighborhood_overview</th>\n",
       "      <th>...</th>\n",
       "      <th>cancellation_policy</th>\n",
       "      <th>require_guest_profile_picture</th>\n",
       "      <th>require_guest_phone_verificatio</th>\n",
       "      <th>calculated_host_listings_count</th>\n",
       "      <th>calculated_host_listings_count_</th>\n",
       "      <th>calculated_host_listings_count1</th>\n",
       "      <th>calculated_host_listings_coun_1</th>\n",
       "      <th>reviews_per_month</th>\n",
       "      <th>ObjectId</th>\n",
       "      <th>SHAPE</th>\n",
       "    </tr>\n",
       "  </thead>\n",
       "  <tbody>\n",
       "    <tr>\n",
       "      <td>0</td>\n",
       "      <td>233662</td>\n",
       "      <td>https://www.airbnb.com/rooms/233662</td>\n",
       "      <td>20190912153101</td>\n",
       "      <td>2019-09-13</td>\n",
       "      <td>Large Sunny Luxe Prvt Room/Midtown</td>\n",
       "      <td>Come enjoy the excitement of New York and stay...</td>\n",
       "      <td>Welcome to a little piece of home away from ho...</td>\n",
       "      <td>Come enjoy the excitement of New York and stay...</td>\n",
       "      <td>none</td>\n",
       "      <td>Many amazing new restaurants from Italian to G...</td>\n",
       "      <td>...</td>\n",
       "      <td>strict_14_with_grace_period</td>\n",
       "      <td>t</td>\n",
       "      <td>t</td>\n",
       "      <td>1</td>\n",
       "      <td>0</td>\n",
       "      <td>1</td>\n",
       "      <td>0</td>\n",
       "      <td>0.66</td>\n",
       "      <td>400</td>\n",
       "      <td>{\"x\": -8234126.849182991, \"y\": 4976381.3245548...</td>\n",
       "    </tr>\n",
       "    <tr>\n",
       "      <td>1</td>\n",
       "      <td>233638</td>\n",
       "      <td>https://www.airbnb.com/rooms/233638</td>\n",
       "      <td>20190912153101</td>\n",
       "      <td>2019-09-13</td>\n",
       "      <td>rooms for rent in Queens with piano</td>\n",
       "      <td>This apartment is homey and comfortable.  The ...</td>\n",
       "      <td>Come stay at my apartment- there is a grand pi...</td>\n",
       "      <td>This apartment is homey and comfortable.  The ...</td>\n",
       "      <td>none</td>\n",
       "      <td>None</td>\n",
       "      <td>...</td>\n",
       "      <td>strict_14_with_grace_period</td>\n",
       "      <td>f</td>\n",
       "      <td>f</td>\n",
       "      <td>1</td>\n",
       "      <td>0</td>\n",
       "      <td>1</td>\n",
       "      <td>0</td>\n",
       "      <td>0.24</td>\n",
       "      <td>399</td>\n",
       "      <td>{\"x\": -8227475.509608095, \"y\": 4968431.2716629...</td>\n",
       "    </tr>\n",
       "    <tr>\n",
       "      <td>2</td>\n",
       "      <td>233189</td>\n",
       "      <td>https://www.airbnb.com/rooms/233189</td>\n",
       "      <td>20190912153101</td>\n",
       "      <td>2019-09-13</td>\n",
       "      <td>NYC Studio in Heart of Times Square</td>\n",
       "      <td>Please message me for custom date range reques...</td>\n",
       "      <td>Quiet, 4th floor walk up studio (NO ELEVATOR/L...</td>\n",
       "      <td>Please message me for custom date range reques...</td>\n",
       "      <td>none</td>\n",
       "      <td>None</td>\n",
       "      <td>...</td>\n",
       "      <td>strict_14_with_grace_period</td>\n",
       "      <td>t</td>\n",
       "      <td>t</td>\n",
       "      <td>1</td>\n",
       "      <td>1</td>\n",
       "      <td>0</td>\n",
       "      <td>0</td>\n",
       "      <td>0.87</td>\n",
       "      <td>398</td>\n",
       "      <td>{\"x\": -8237280.530357166, \"y\": 4977249.8762309...</td>\n",
       "    </tr>\n",
       "    <tr>\n",
       "      <td>3</td>\n",
       "      <td>232618</td>\n",
       "      <td>https://www.airbnb.com/rooms/232618</td>\n",
       "      <td>20190912153101</td>\n",
       "      <td>2019-09-13</td>\n",
       "      <td>Spacious, well furnished, high fl. beautiful v...</td>\n",
       "      <td>Large, very comfortable 1 King Size Bedroom Ap...</td>\n",
       "      <td>Beautiful FULLY FURNISHED Apartment with all t...</td>\n",
       "      <td>Large, very comfortable 1 King Size Bedroom Ap...</td>\n",
       "      <td>none</td>\n",
       "      <td>My favorite local Restaurants: Rao’s, Amor Cub...</td>\n",
       "      <td>...</td>\n",
       "      <td>strict_14_with_grace_period</td>\n",
       "      <td>t</td>\n",
       "      <td>t</td>\n",
       "      <td>1</td>\n",
       "      <td>1</td>\n",
       "      <td>0</td>\n",
       "      <td>0</td>\n",
       "      <td>1.56</td>\n",
       "      <td>397</td>\n",
       "      <td>{\"x\": -8230331.96774185, \"y\": 4982065.78723201...</td>\n",
       "    </tr>\n",
       "    <tr>\n",
       "      <td>4</td>\n",
       "      <td>232612</td>\n",
       "      <td>https://www.airbnb.com/rooms/232612</td>\n",
       "      <td>20190912153101</td>\n",
       "      <td>2019-09-13</td>\n",
       "      <td>Lovely pied-à-terre, in an historic building</td>\n",
       "      <td>My beautiful studio is on the second floor, on...</td>\n",
       "      <td>My studio is located on the 2nd floor of a his...</td>\n",
       "      <td>My beautiful studio is on the second floor, on...</td>\n",
       "      <td>none</td>\n",
       "      <td>Bed-Stuy neighborhood is steeped in American u...</td>\n",
       "      <td>...</td>\n",
       "      <td>strict_14_with_grace_period</td>\n",
       "      <td>f</td>\n",
       "      <td>f</td>\n",
       "      <td>1</td>\n",
       "      <td>1</td>\n",
       "      <td>0</td>\n",
       "      <td>0</td>\n",
       "      <td>3.27</td>\n",
       "      <td>396</td>\n",
       "      <td>{\"x\": -8231206.938939485, \"y\": 4965709.2913786...</td>\n",
       "    </tr>\n",
       "  </tbody>\n",
       "</table>\n",
       "<p>5 rows × 108 columns</p>\n",
       "</div>"
      ],
      "text/plain": [
       "       id                          listing_url       scrape_id last_scraped  \\\n",
       "0  233662  https://www.airbnb.com/rooms/233662  20190912153101   2019-09-13   \n",
       "1  233638  https://www.airbnb.com/rooms/233638  20190912153101   2019-09-13   \n",
       "2  233189  https://www.airbnb.com/rooms/233189  20190912153101   2019-09-13   \n",
       "3  232618  https://www.airbnb.com/rooms/232618  20190912153101   2019-09-13   \n",
       "4  232612  https://www.airbnb.com/rooms/232612  20190912153101   2019-09-13   \n",
       "\n",
       "                                                name  \\\n",
       "0                 Large Sunny Luxe Prvt Room/Midtown   \n",
       "1                rooms for rent in Queens with piano   \n",
       "2                NYC Studio in Heart of Times Square   \n",
       "3  Spacious, well furnished, high fl. beautiful v...   \n",
       "4       Lovely pied-à-terre, in an historic building   \n",
       "\n",
       "                                             summary  \\\n",
       "0  Come enjoy the excitement of New York and stay...   \n",
       "1  This apartment is homey and comfortable.  The ...   \n",
       "2  Please message me for custom date range reques...   \n",
       "3  Large, very comfortable 1 King Size Bedroom Ap...   \n",
       "4  My beautiful studio is on the second floor, on...   \n",
       "\n",
       "                                               space  \\\n",
       "0  Welcome to a little piece of home away from ho...   \n",
       "1  Come stay at my apartment- there is a grand pi...   \n",
       "2  Quiet, 4th floor walk up studio (NO ELEVATOR/L...   \n",
       "3  Beautiful FULLY FURNISHED Apartment with all t...   \n",
       "4  My studio is located on the 2nd floor of a his...   \n",
       "\n",
       "                                         description experiences_offered  \\\n",
       "0  Come enjoy the excitement of New York and stay...                none   \n",
       "1  This apartment is homey and comfortable.  The ...                none   \n",
       "2  Please message me for custom date range reques...                none   \n",
       "3  Large, very comfortable 1 King Size Bedroom Ap...                none   \n",
       "4  My beautiful studio is on the second floor, on...                none   \n",
       "\n",
       "                               neighborhood_overview  ...  \\\n",
       "0  Many amazing new restaurants from Italian to G...  ...   \n",
       "1                                               None  ...   \n",
       "2                                               None  ...   \n",
       "3  My favorite local Restaurants: Rao’s, Amor Cub...  ...   \n",
       "4  Bed-Stuy neighborhood is steeped in American u...  ...   \n",
       "\n",
       "           cancellation_policy require_guest_profile_picture  \\\n",
       "0  strict_14_with_grace_period                             t   \n",
       "1  strict_14_with_grace_period                             f   \n",
       "2  strict_14_with_grace_period                             t   \n",
       "3  strict_14_with_grace_period                             t   \n",
       "4  strict_14_with_grace_period                             f   \n",
       "\n",
       "  require_guest_phone_verificatio calculated_host_listings_count  \\\n",
       "0                               t                              1   \n",
       "1                               f                              1   \n",
       "2                               t                              1   \n",
       "3                               t                              1   \n",
       "4                               f                              1   \n",
       "\n",
       "  calculated_host_listings_count_ calculated_host_listings_count1  \\\n",
       "0                               0                               1   \n",
       "1                               0                               1   \n",
       "2                               1                               0   \n",
       "3                               1                               0   \n",
       "4                               1                               0   \n",
       "\n",
       "  calculated_host_listings_coun_1 reviews_per_month ObjectId  \\\n",
       "0                               0              0.66      400   \n",
       "1                               0              0.24      399   \n",
       "2                               0              0.87      398   \n",
       "3                               0              1.56      397   \n",
       "4                               0              3.27      396   \n",
       "\n",
       "                                               SHAPE  \n",
       "0  {\"x\": -8234126.849182991, \"y\": 4976381.3245548...  \n",
       "1  {\"x\": -8227475.509608095, \"y\": 4968431.2716629...  \n",
       "2  {\"x\": -8237280.530357166, \"y\": 4977249.8762309...  \n",
       "3  {\"x\": -8230331.96774185, \"y\": 4982065.78723201...  \n",
       "4  {\"x\": -8231206.938939485, \"y\": 4965709.2913786...  \n",
       "\n",
       "[5 rows x 108 columns]"
      ]
     },
     "execution_count": 12,
     "metadata": {},
     "output_type": "execute_result"
    }
   ],
   "source": [
    "sdf_airbnb_layer.head()"
   ]
  },
  {
   "cell_type": "code",
   "execution_count": 31,
   "metadata": {},
   "outputs": [
    {
     "name": "stdout",
     "output_type": "stream",
     "text": [
      "You need to be signed in to use spatial analysis.\n"
     ]
    },
    {
     "ename": "AttributeError",
     "evalue": "'NoneType' object has no attribute 'aggregate_points'",
     "output_type": "error",
     "traceback": [
      "\u001b[0;31m---------------------------------------------------------------------------\u001b[0m",
      "\u001b[0;31mAttributeError\u001b[0m                            Traceback (most recent call last)",
      "\u001b[0;32m<ipython-input-31-4da82830f02a>\u001b[0m in \u001b[0;36m<module>\u001b[0;34m\u001b[0m\n\u001b[0;32m----> 1\u001b[0;31m \u001b[0magg_result\u001b[0m \u001b[0;34m=\u001b[0m \u001b[0msummarize_data\u001b[0m\u001b[0;34m.\u001b[0m\u001b[0maggregate_points\u001b[0m\u001b[0;34m(\u001b[0m\u001b[0mpoint_layer\u001b[0m \u001b[0;34m=\u001b[0m \u001b[0msdf_airbnb_layer\u001b[0m\u001b[0;34m,\u001b[0m \u001b[0mpolygon_layer\u001b[0m \u001b[0;34m=\u001b[0m \u001b[0mnyc_tracts_layer\u001b[0m\u001b[0;34m)\u001b[0m\u001b[0;34m\u001b[0m\u001b[0;34m\u001b[0m\u001b[0m\n\u001b[0m",
      "\u001b[0;32m~/opt/anaconda3/lib/python3.7/site-packages/arcgis/features/summarize_data.py\u001b[0m in \u001b[0;36maggregate_points\u001b[0;34m(point_layer, polygon_layer, keep_boundaries_with_no_points, summary_fields, group_by_field, minority_majority, percent_points, output_name, context, gis)\u001b[0m\n\u001b[1;32m     59\u001b[0m     \"\"\"\n\u001b[1;32m     60\u001b[0m     \u001b[0mgis\u001b[0m \u001b[0;34m=\u001b[0m \u001b[0m_arcgis\u001b[0m\u001b[0;34m.\u001b[0m\u001b[0menv\u001b[0m\u001b[0;34m.\u001b[0m\u001b[0mactive_gis\u001b[0m \u001b[0;32mif\u001b[0m \u001b[0mgis\u001b[0m \u001b[0;32mis\u001b[0m \u001b[0;32mNone\u001b[0m \u001b[0;32melse\u001b[0m \u001b[0mgis\u001b[0m\u001b[0;34m\u001b[0m\u001b[0;34m\u001b[0m\u001b[0m\n\u001b[0;32m---> 61\u001b[0;31m     return gis._tools.featureanalysis.aggregate_points(\n\u001b[0m\u001b[1;32m     62\u001b[0m                      \u001b[0mpoint_layer\u001b[0m\u001b[0;34m,\u001b[0m\u001b[0;34m\u001b[0m\u001b[0;34m\u001b[0m\u001b[0m\n\u001b[1;32m     63\u001b[0m                      \u001b[0mpolygon_layer\u001b[0m\u001b[0;34m,\u001b[0m\u001b[0;34m\u001b[0m\u001b[0;34m\u001b[0m\u001b[0m\n",
      "\u001b[0;31mAttributeError\u001b[0m: 'NoneType' object has no attribute 'aggregate_points'"
     ]
    }
   ],
   "source": [
    "agg_result = summarize_data.aggregate_points(point_layer = sdf_airbnb_layer, polygon_layer = nyc_tracts_layer)"
   ]
  },
  {
   "cell_type": "code",
   "execution_count": null,
   "metadata": {},
   "outputs": [],
   "source": []
  },
  {
   "cell_type": "code",
   "execution_count": null,
   "metadata": {},
   "outputs": [],
   "source": []
  }
 ],
 "metadata": {
  "kernelspec": {
   "display_name": "Python 3",
   "language": "python",
   "name": "python3"
  },
  "language_info": {
   "codemirror_mode": {
    "name": "ipython",
    "version": 3
   },
   "file_extension": ".py",
   "mimetype": "text/x-python",
   "name": "python",
   "nbconvert_exporter": "python",
   "pygments_lexer": "ipython3",
   "version": "3.7.4"
  }
 },
 "nbformat": 4,
 "nbformat_minor": 2
}
