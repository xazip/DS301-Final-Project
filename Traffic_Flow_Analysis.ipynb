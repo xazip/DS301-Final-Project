{
  "nbformat": 4,
  "nbformat_minor": 0,
  "metadata": {
    "colab": {
      "name": "Machine_Learning_Project.ipynb",
      "provenance": []
    },
    "kernelspec": {
      "name": "python3",
      "display_name": "Python 3"
    }
  },
  "cells": [
    {
      "cell_type": "code",
      "metadata": {
        "id": "NHmAUkgZ3DtX",
        "colab_type": "code",
        "outputId": "8bed094c-4e59-4cb6-ba95-6fbe915c6d67",
        "colab": {
          "base_uri": "https://localhost:8080/",
          "height": 34
        }
      },
      "source": [
        "import sklearn\n",
        "assert sklearn.__version__>= '0.20'\n",
        "\n",
        "try:\n",
        "  %tensorflow_version 2.x\n",
        "except Exception:\n",
        "  pass\n",
        "\n",
        "import tensorflow as tf\n",
        "assert tf.__version__>= '2.0'\n",
        "\n",
        "from tensorflow import keras"
      ],
      "execution_count": 1,
      "outputs": [
        {
          "output_type": "stream",
          "text": [
            "TensorFlow 2.x selected.\n"
          ],
          "name": "stdout"
        }
      ]
    },
    {
      "cell_type": "code",
      "metadata": {
        "id": "uJmQc03dpQls",
        "colab_type": "code",
        "outputId": "9a0abc0b-f411-4c78-f557-c0661f431fc4",
        "colab": {
          "base_uri": "https://localhost:8080/",
          "height": 34
        }
      },
      "source": [
        "#Check to make sure versions are correct\n",
        "tf.__version__, keras.__version__"
      ],
      "execution_count": 2,
      "outputs": [
        {
          "output_type": "execute_result",
          "data": {
            "text/plain": [
              "('2.0.0', '2.2.4-tf')"
            ]
          },
          "metadata": {
            "tags": []
          },
          "execution_count": 2
        }
      ]
    },
    {
      "cell_type": "code",
      "metadata": {
        "id": "5I_2na8npTRG",
        "colab_type": "code",
        "colab": {}
      },
      "source": [
        "#Import standard libraries\n",
        "import pandas as pd\n",
        "import numpy as np\n",
        "import os"
      ],
      "execution_count": 0,
      "outputs": []
    },
    {
      "cell_type": "code",
      "metadata": {
        "id": "dJrpBILOjeOO",
        "colab_type": "code",
        "colab": {}
      },
      "source": [
        "%matplotlib inline\n",
        "import matplotlib.pyplot as plt\n",
        "import seaborn as sns; sns.set()  # for plot styling"
      ],
      "execution_count": 0,
      "outputs": []
    },
    {
      "cell_type": "code",
      "metadata": {
        "id": "-HjlqzM8pWfk",
        "colab_type": "code",
        "colab": {}
      },
      "source": [
        "# Ignore annoying warnings\n",
        "import warnings \n",
        "warnings.filterwarnings(action = 'ignore', message = '^internal gelsd')"
      ],
      "execution_count": 0,
      "outputs": []
    },
    {
      "cell_type": "code",
      "metadata": {
        "id": "YRovejB7rUdd",
        "colab_type": "code",
        "outputId": "27209067-93d0-4f65-bd3c-67ef6ef62fbb",
        "colab": {
          "base_uri": "https://localhost:8080/",
          "height": 54
        }
      },
      "source": [
        "from google.colab import drive\n",
        "drive.mount('/content/drive')"
      ],
      "execution_count": 6,
      "outputs": [
        {
          "output_type": "stream",
          "text": [
            "Drive already mounted at /content/drive; to attempt to forcibly remount, call drive.mount(\"/content/drive\", force_remount=True).\n"
          ],
          "name": "stdout"
        }
      ]
    },
    {
      "cell_type": "code",
      "metadata": {
        "id": "buvQ9L0mn2vA",
        "colab_type": "code",
        "colab": {}
      },
      "source": [
        "import glob "
      ],
      "execution_count": 0,
      "outputs": []
    },
    {
      "cell_type": "code",
      "metadata": {
        "id": "5CU4lXEAjUuW",
        "colab_type": "code",
        "colab": {}
      },
      "source": [
        "path = r\"/content/drive/My Drive/PeMS_Data_Folder/2008\"\n",
        "all_files = glob.glob(path + \"/*.txt\")\n",
        "\n",
        "glue = []\n",
        "\n",
        "for filename in all_files:\n",
        "  df = pd.read_csv(filename,\n",
        "                   names = [\"TimeStamp\", \"StationId\", \"StationTotalFlow\", \"StationAvgOcc\",\n",
        "                            \"StationAvgSpeed\", \"StationPercentObserved\", \"Lane1TotalFlow\",\n",
        "                            \"Lane1AvgOcc\", \"Lane1AvgSpeed\", \"Lane1Observed\", \"Lane2TotalFlow\",\n",
        "                            \"Lane2AvgOcc\", \"Lane2AvgSpeed\", \"Lane2Observed\", \"Lane3TotalFlow\",\n",
        "                            \"Lane3AvgOcc\", \"Lane3AvgSpeed\", \"Lane3Observed\", \"Lane4TotalFlow\",\n",
        "                            \"Lane4AvgOcc\", \"Lane4AvgSpeed\", \"Lane4Observed\"],\n",
        "                   usecols = np.arange(22))\n",
        "  glue.append(df)\n",
        "\n",
        "Data_Frame_2008 = pd.concat(glue, axis = 0, ignore_index = True)"
      ],
      "execution_count": 0,
      "outputs": []
    },
    {
      "cell_type": "code",
      "metadata": {
        "id": "-jsUL_lRmNMs",
        "colab_type": "code",
        "colab": {}
      },
      "source": [
        "path = r\"/content/drive/My Drive/PeMS_Data_Folder/2009\"\n",
        "all_files = glob.glob(path + \"/*.txt\")\n",
        "\n",
        "glue = []\n",
        "\n",
        "for filename in all_files:\n",
        "  df = pd.read_csv(filename,\n",
        "                   names = [\"TimeStamp\", \"StationId\", \"StationTotalFlow\", \"StationAvgOcc\",\n",
        "                            \"StationAvgSpeed\", \"StationPercentObserved\", \"Lane1TotalFlow\",\n",
        "                            \"Lane1AvgOcc\", \"Lane1AvgSpeed\", \"Lane1Observed\", \"Lane2TotalFlow\",\n",
        "                            \"Lane2AvgOcc\", \"Lane2AvgSpeed\", \"Lane2Observed\", \"Lane3TotalFlow\",\n",
        "                            \"Lane3AvgOcc\", \"Lane3AvgSpeed\", \"Lane3Observed\", \"Lane4TotalFlow\",\n",
        "                            \"Lane4AvgOcc\", \"Lane4AvgSpeed\", \"Lane4Observed\"],\n",
        "                   usecols = np.arange(22))\n",
        "  glue.append(df)\n",
        "\n",
        "Data_Frame_2009 = pd.concat(glue, axis = 0, ignore_index = True)"
      ],
      "execution_count": 0,
      "outputs": []
    },
    {
      "cell_type": "code",
      "metadata": {
        "id": "M4Se64WboNZj",
        "colab_type": "code",
        "colab": {}
      },
      "source": [
        "path = r\"/content/drive/My Drive/PeMS_Data_Folder/2010\"\n",
        "all_files = glob.glob(path + \"/*.txt\")\n",
        "\n",
        "glue = []\n",
        "\n",
        "for filename in all_files:\n",
        "  df = pd.read_csv(filename,\n",
        "                   names = [\"TimeStamp\", \"StationId\", \"StationTotalFlow\", \"StationAvgOcc\",\n",
        "                            \"StationAvgSpeed\", \"StationPercentObserved\", \"Lane1TotalFlow\",\n",
        "                            \"Lane1AvgOcc\", \"Lane1AvgSpeed\", \"Lane1Observed\", \"Lane2TotalFlow\",\n",
        "                            \"Lane2AvgOcc\", \"Lane2AvgSpeed\", \"Lane2Observed\", \"Lane3TotalFlow\",\n",
        "                            \"Lane3AvgOcc\", \"Lane3AvgSpeed\", \"Lane3Observed\", \"Lane4TotalFlow\",\n",
        "                            \"Lane4AvgOcc\", \"Lane4AvgSpeed\", \"Lane4Observed\"],\n",
        "                   usecols = np.arange(22))\n",
        "  glue.append(df)\n",
        "\n",
        "Data_Frame_2010 = pd.concat(glue, axis = 0, ignore_index = True)"
      ],
      "execution_count": 0,
      "outputs": []
    },
    {
      "cell_type": "code",
      "metadata": {
        "id": "w7wIyFtkogBR",
        "colab_type": "code",
        "colab": {}
      },
      "source": [
        "path = r\"/content/drive/My Drive/PeMS_Data_Folder/2011\"\n",
        "all_files = glob.glob(path + \"/*.txt\")\n",
        "\n",
        "glue = []\n",
        "\n",
        "for filename in all_files:\n",
        "  df = pd.read_csv(filename,\n",
        "                   names = [\"TimeStamp\", \"StationId\", \"StationTotalFlow\", \"StationAvgOcc\",\n",
        "                            \"StationAvgSpeed\", \"StationPercentObserved\", \"Lane1TotalFlow\",\n",
        "                            \"Lane1AvgOcc\", \"Lane1AvgSpeed\", \"Lane1Observed\", \"Lane2TotalFlow\",\n",
        "                            \"Lane2AvgOcc\", \"Lane2AvgSpeed\", \"Lane2Observed\", \"Lane3TotalFlow\",\n",
        "                            \"Lane3AvgOcc\", \"Lane3AvgSpeed\", \"Lane3Observed\", \"Lane4TotalFlow\",\n",
        "                            \"Lane4AvgOcc\", \"Lane4AvgSpeed\", \"Lane4Observed\"],\n",
        "                   usecols = np.arange(22))\n",
        "  glue.append(df)\n",
        "\n",
        "Data_Frame_2011 = pd.concat(glue, axis = 0, ignore_index = True)"
      ],
      "execution_count": 0,
      "outputs": []
    },
    {
      "cell_type": "code",
      "metadata": {
        "id": "XCbpvreworMz",
        "colab_type": "code",
        "colab": {}
      },
      "source": [
        "path = r\"/content/drive/My Drive/PeMS_Data_Folder/2012\"\n",
        "all_files = glob.glob(path + \"/*.txt\")\n",
        "\n",
        "glue = []\n",
        "\n",
        "for filename in all_files:\n",
        "  df = pd.read_csv(filename,\n",
        "                   names = [\"TimeStamp\", \"StationId\", \"StationTotalFlow\", \"StationAvgOcc\",\n",
        "                            \"StationAvgSpeed\", \"StationPercentObserved\", \"Lane1TotalFlow\",\n",
        "                            \"Lane1AvgOcc\", \"Lane1AvgSpeed\", \"Lane1Observed\", \"Lane2TotalFlow\",\n",
        "                            \"Lane2AvgOcc\", \"Lane2AvgSpeed\", \"Lane2Observed\", \"Lane3TotalFlow\",\n",
        "                            \"Lane3AvgOcc\", \"Lane3AvgSpeed\", \"Lane3Observed\", \"Lane4TotalFlow\",\n",
        "                            \"Lane4AvgOcc\", \"Lane4AvgSpeed\", \"Lane4Observed\"],\n",
        "                   usecols = np.arange(22))\n",
        "  glue.append(df)\n",
        "\n",
        "Data_Frame_2012 = pd.concat(glue, axis = 0, ignore_index = True)"
      ],
      "execution_count": 0,
      "outputs": []
    },
    {
      "cell_type": "code",
      "metadata": {
        "id": "xHnJ1EBjo4Us",
        "colab_type": "code",
        "colab": {}
      },
      "source": [
        "path = r\"/content/drive/My Drive/PeMS_Data_Folder/2013\"\n",
        "all_files = glob.glob(path + \"/*.txt\")\n",
        "\n",
        "glue = []\n",
        "\n",
        "for filename in all_files:\n",
        "  df = pd.read_csv(filename,\n",
        "                   names = [\"TimeStamp\", \"StationId\", \"StationTotalFlow\", \"StationAvgOcc\",\n",
        "                            \"StationAvgSpeed\", \"StationPercentObserved\", \"Lane1TotalFlow\",\n",
        "                            \"Lane1AvgOcc\", \"Lane1AvgSpeed\", \"Lane1Observed\", \"Lane2TotalFlow\",\n",
        "                            \"Lane2AvgOcc\", \"Lane2AvgSpeed\", \"Lane2Observed\", \"Lane3TotalFlow\",\n",
        "                            \"Lane3AvgOcc\", \"Lane3AvgSpeed\", \"Lane3Observed\", \"Lane4TotalFlow\",\n",
        "                            \"Lane4AvgOcc\", \"Lane4AvgSpeed\", \"Lane4Observed\"],\n",
        "                   usecols = np.arange(22))\n",
        "  glue.append(df)\n",
        "\n",
        "Data_Frame_2013 = pd.concat(glue, axis = 0, ignore_index = True)"
      ],
      "execution_count": 0,
      "outputs": []
    },
    {
      "cell_type": "code",
      "metadata": {
        "id": "HKGYj3L_pLmV",
        "colab_type": "code",
        "colab": {
          "base_uri": "https://localhost:8080/",
          "height": 106
        },
        "outputId": "143852f5-f5df-4844-c1e8-c154fdddadbb"
      },
      "source": [
        "path = r\"/content/drive/My Drive/PeMS_Data_Folder/2014\"\n",
        "all_files = glob.glob(path + \"/*.txt\")\n",
        "\n",
        "glue = []\n",
        "\n",
        "for filename in all_files:\n",
        "  df = pd.read_csv(filename,\n",
        "                   names = [\"TimeStamp\", \"StationId\", \"StationTotalFlow\", \"StationAvgOcc\",\n",
        "                            \"StationAvgSpeed\", \"StationPercentObserved\", \"Lane1TotalFlow\",\n",
        "                            \"Lane1AvgOcc\", \"Lane1AvgSpeed\", \"Lane1Observed\", \"Lane2TotalFlow\",\n",
        "                            \"Lane2AvgOcc\", \"Lane2AvgSpeed\", \"Lane2Observed\", \"Lane3TotalFlow\",\n",
        "                            \"Lane3AvgOcc\", \"Lane3AvgSpeed\", \"Lane3Observed\", \"Lane4TotalFlow\",\n",
        "                            \"Lane4AvgOcc\", \"Lane4AvgSpeed\", \"Lane4Observed\"],\n",
        "                   usecols = np.arange(22))\n",
        "  glue.append(df)\n",
        "\n",
        "Data_Frame_2014 = pd.concat(glue, axis = 0, ignore_index = True)"
      ],
      "execution_count": 25,
      "outputs": [
        {
          "output_type": "stream",
          "text": [
            "/usr/local/lib/python3.6/dist-packages/IPython/core/interactiveshell.py:2718: DtypeWarning: Columns (11) have mixed types. Specify dtype option on import or set low_memory=False.\n",
            "  interactivity=interactivity, compiler=compiler, result=result)\n",
            "/usr/local/lib/python3.6/dist-packages/IPython/core/interactiveshell.py:2718: DtypeWarning: Columns (12) have mixed types. Specify dtype option on import or set low_memory=False.\n",
            "  interactivity=interactivity, compiler=compiler, result=result)\n"
          ],
          "name": "stderr"
        }
      ]
    }
  ]
}